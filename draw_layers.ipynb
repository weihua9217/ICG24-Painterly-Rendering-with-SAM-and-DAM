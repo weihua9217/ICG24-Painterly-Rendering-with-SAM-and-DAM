{
 "cells": [
  {
   "cell_type": "markdown",
   "metadata": {},
   "source": [
    "## 2024 ICG Final Project"
   ]
  },
  {
   "cell_type": "code",
   "execution_count": null,
   "metadata": {},
   "outputs": [],
   "source": [
    "import os\n",
    "import cv2\n",
    "import matplotlib.pyplot as plt\n",
    "from PIL import Image\n",
    "import numpy as np\n",
    "\n",
    "def show_cv2_image(img):\n",
    "   plt.imshow(cv2.cvtColor(img, cv2.COLOR_BGR2RGB))\n",
    "   plt.show()\n",
    "\n",
    "image_name = 'tomato.png'\n",
    "image_path = './images/' + image_name\n",
    "\n",
    "input_image = cv2.imread(image_path)"
   ]
  },
  {
   "cell_type": "code",
   "execution_count": null,
   "metadata": {},
   "outputs": [],
   "source": [
    "from transformers import pipeline\n",
    "\n",
    "pipe = pipeline(task=\"depth-estimation\", model=\"LiheYoung/depth-anything-small-hf\")\n",
    "input_image_depth = Image.open(image_path)\n",
    "depth_image = pipe(input_image_depth)[\"depth\"]\n",
    "\n",
    "plt.imshow(depth_image, cmap='gray')\n",
    "plt.imsave('./depth'+'_'+image_name, depth_image,cmap='gray')"
   ]
  },
  {
   "cell_type": "code",
   "execution_count": null,
   "metadata": {},
   "outputs": [],
   "source": [
    "import torch\n",
    "from segment_anything import sam_model_registry\n",
    "from segment_anything import SamAutomaticMaskGenerator\n",
    "import supervision as sv\n",
    "\n",
    "DEVICE = torch.device('cuda:0' if torch.cuda.is_available() else 'cpu')\n",
    "MODEL_TYPE = \"vit_h\"\n",
    "sam = sam_model_registry[MODEL_TYPE](checkpoint='./weights/sam_vit_h.pth')\n",
    "sam.to(device=DEVICE)\n",
    "mask_generator = SamAutomaticMaskGenerator(sam)\n",
    "image_bgr = cv2.imread(image_path)\n",
    "image_rgb = cv2.cvtColor(image_bgr, cv2.COLOR_BGR2RGB)\n",
    "result = mask_generator.generate(image_rgb)\n",
    "\n",
    "sam_result_path = './masks_'+image_name[:-4]\n",
    "os.makedirs(sam_result_path, exist_ok=True)\n",
    "\n",
    "# exit()\n",
    "for i in range(len(result)):\n",
    "   mask  = result[i]['segmentation']\n",
    "   result_mask = np.zeros_like(image_bgr)\n",
    "   result_mask[mask==True] = 1\n",
    "   cv2.imwrite(os.path.join(sam_result_path, 'mask_%d.png'%i), result_mask*255)\n",
    "\n",
    "\n",
    "mask_annotator = sv.MaskAnnotator(color_lookup=sv.ColorLookup.INDEX)\n",
    "detections = sv.Detections.from_sam(result)\n",
    "annotated_image = mask_annotator.annotate(image_bgr, detections)\n",
    "\n",
    "cv2.imwrite('./sam_'+image_name, annotated_image)"
   ]
  },
  {
   "cell_type": "code",
   "execution_count": null,
   "metadata": {},
   "outputs": [],
   "source": [
    "mask_folder = os.listdir(sam_result_path)"
   ]
  },
  {
   "cell_type": "markdown",
   "metadata": {},
   "source": [
    "### 計算深度並且產生 layers"
   ]
  },
  {
   "cell_type": "code",
   "execution_count": null,
   "metadata": {},
   "outputs": [],
   "source": [
    "prior_list = []\n",
    "\n",
    "for i in range(len(mask_folder)):\n",
    "   mask = cv2.imread(os.path.join(sam_result_path, mask_folder[i]), 0)\n",
    "   mask[mask!=0]=1\n",
    "   pixel_num = mask.sum()\n",
    "   prior = np.multiply(mask, depth_image)\n",
    "   prior_list.append((mask_folder[i], prior.sum()/pixel_num))\n",
    "\n",
    "other_mask = np.ones([input_image.shape[0], input_image.shape[1]])\n",
    "\n",
    "for i in range(len(mask_folder)):\n",
    "   mask = cv2.imread(os.path.join(sam_result_path, mask_folder[i]), 0)\n",
    "   mask[mask!=0]=1\n",
    "   other_mask[mask==1]=0\n",
    "cv2.imwrite(os.path.join(sam_result_path, 'other_mask.png'), (other_mask*255).astype(np.uint8))\n",
    "prior_list.append(('other_mask.png', -1*np.inf))\n",
    "\n",
    "prior_list = sorted(prior_list, key=lambda mask: mask[1]) "
   ]
  },
  {
   "cell_type": "code",
   "execution_count": null,
   "metadata": {},
   "outputs": [],
   "source": [
    "crop_path = './crop_layers_'+image_name[:-4]\n",
    "os.makedirs(crop_path, exist_ok=True)"
   ]
  },
  {
   "cell_type": "code",
   "execution_count": null,
   "metadata": {},
   "outputs": [],
   "source": [
    "for idx in range(len(prior_list)):\n",
    "   mask_name = prior_list[idx][0]\n",
    "   mask_img = cv2.imread(os.path.join(sam_result_path, mask_name))\n",
    "   mask_img[mask_img!=0]=1\n",
    "   cv2.imwrite(os.path.join(crop_path, 'layer%s.png'%idx), mask_img*input_image)"
   ]
  },
  {
   "cell_type": "markdown",
   "metadata": {},
   "source": [
    "# Start to paint the layer"
   ]
  },
  {
   "cell_type": "code",
   "execution_count": null,
   "metadata": {},
   "outputs": [],
   "source": [
    "layer_folder = os.listdir(crop_path)\n",
    "print(len(layer_folder))"
   ]
  },
  {
   "cell_type": "code",
   "execution_count": null,
   "metadata": {},
   "outputs": [],
   "source": [
    "from paintly import paint\n",
    "\n",
    "paint_path = './paint_layers_'+image_name[:-4]\n",
    "os.makedirs(paint_path, exist_ok=True)"
   ]
  },
  {
   "cell_type": "code",
   "execution_count": null,
   "metadata": {},
   "outputs": [],
   "source": [
    "for layer in layer_folder:\n",
    "   img = cv2.imread(os.path.join(crop_path, layer))\n",
    "   painting = paint(img, [2], T=5, curved=True, f_g=1)\n",
    "   cv2.imwrite(os.path.join(paint_path, layer), (255*painting).astype(np.uint8))"
   ]
  },
  {
   "cell_type": "code",
   "execution_count": null,
   "metadata": {},
   "outputs": [],
   "source": [
    "painted_folder = os.listdir(paint_path)\n",
    "print(len(painted_folder))"
   ]
  },
  {
   "cell_type": "code",
   "execution_count": null,
   "metadata": {},
   "outputs": [],
   "source": [
    "canvas = np.zeros_like(input_image)\n",
    "print(canvas.shape)\n",
    "print(paint_path, crop_path)\n",
    "\n",
    "for idx in range(len(painted_folder)):\n",
    "   layer_name = 'layer%s.png'%idx\n",
    "\n",
    "   layer_img = cv2.imread(os.path.join(paint_path, layer_name))\n",
    "   mask_img = cv2.imread(os.path.join(crop_path, layer_name))\n",
    "   \n",
    "   mask_img[mask_img!=0] = 1\n",
    "   \n",
    "   if idx==0:\n",
    "      T = 20\n",
    "   else:\n",
    "      T = 70\n",
    "\n",
    "\n",
    "   for yy in range(canvas.shape[0]):\n",
    "      for xx in range(canvas.shape[1]):\n",
    "         if layer_img[yy, xx, 0] > T or layer_img[yy, xx, 1] > T or layer_img[yy, xx, 2] > T:\n",
    "            canvas[yy, xx, :] = layer_img[yy, xx, :] \n",
    "\n",
    "   # canvas[layer_img>T] = layer_img[layer_img>T].copy()\n",
    "\n",
    "other_mask = cv2.imread(os.path.join(crop_path, 'layer0.png'))\n",
    "canvas[other_mask>0] = other_mask[other_mask>0]\n",
    "show_cv2_image(canvas)"
   ]
  },
  {
   "cell_type": "code",
   "execution_count": null,
   "metadata": {},
   "outputs": [],
   "source": [
    "cv2.imwrite('./canvas_hs.png',canvas)"
   ]
  }
 ],
 "metadata": {
  "kernelspec": {
   "display_name": "SRFormer",
   "language": "python",
   "name": "python3"
  },
  "language_info": {
   "codemirror_mode": {
    "name": "ipython",
    "version": 3
   },
   "file_extension": ".py",
   "mimetype": "text/x-python",
   "name": "python",
   "nbconvert_exporter": "python",
   "pygments_lexer": "ipython3",
   "version": "3.1.undefined"
  }
 },
 "nbformat": 4,
 "nbformat_minor": 2
}
